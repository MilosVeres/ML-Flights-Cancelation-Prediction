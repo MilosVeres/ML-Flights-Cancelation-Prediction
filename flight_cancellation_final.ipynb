{
 "cells": [
  {
   "cell_type": "markdown",
   "metadata": {},
   "source": [
    "## Import libraries"
   ]
  },
  {
   "cell_type": "code",
   "execution_count": 1,
   "metadata": {},
   "outputs": [],
   "source": [
    "import pandas as pd\n",
    "import numpy as np\n",
    "import os\n",
    "from tqdm import tqdm\n",
    "import seaborn as sns\n",
    "import matplotlib.pyplot as plt\n",
    "\n",
    "pd.set_option('display.max_columns',150)\n",
    "%matplotlib inline"
   ]
  },
  {
   "cell_type": "code",
   "execution_count": 2,
   "metadata": {},
   "outputs": [],
   "source": [
    "flight_path = 'flight_data/'\n",
    "weather_path = 'weather_data/'"
   ]
  },
  {
   "cell_type": "code",
   "execution_count": 3,
   "metadata": {},
   "outputs": [],
   "source": [
    "airport_codes = ['ORD', 'JFK', 'ATL','LAX','DFW','DEN','SFO','LAS','SEA','CLT',\n",
    "                 'MCO','MIA','PHX','EWR','IAH','IAH','LGA','MSP','DTW','PHL','BOS']"
   ]
  },
  {
   "cell_type": "markdown",
   "metadata": {},
   "source": [
    "### <center>Not require to run"
   ]
  },
  {
   "cell_type": "code",
   "execution_count": 6,
   "metadata": {},
   "outputs": [],
   "source": [
    "#all_flight_files = os.listdir(flight_path)"
   ]
  },
  {
   "cell_type": "code",
   "execution_count": 7,
   "metadata": {},
   "outputs": [
    {
     "data": {
      "text/plain": [
       "['2017_2.csv',\n",
       " '2017_7.csv',\n",
       " '2018_11.csv',\n",
       " '2016_10.csv',\n",
       " '2017_4.csv',\n",
       " '2016_6.csv',\n",
       " '2016_3.csv',\n",
       " '2017_3.csv',\n",
       " '2018_4.csv',\n",
       " '2018_7.csv',\n",
       " '2017_10.csv',\n",
       " '2016_2.csv',\n",
       " '2018_8.csv',\n",
       " '2018_6.csv',\n",
       " '2017_5.csv',\n",
       " '2016_1.csv',\n",
       " '2018_9.csv',\n",
       " '2017_12.csv',\n",
       " '2017_1.csv',\n",
       " '2018_2.csv',\n",
       " '2018_3.csv',\n",
       " '2017_9.csv',\n",
       " '2018_12.csv',\n",
       " '2016_7.csv',\n",
       " '2018_1.csv',\n",
       " '2018_5.csv',\n",
       " '2016_4.csv',\n",
       " '2016_9.csv',\n",
       " '2017_6.csv',\n",
       " '2017_11.csv',\n",
       " '2016_5.csv',\n",
       " '2018_10.csv',\n",
       " '2016_11.csv',\n",
       " '2016_12.csv',\n",
       " '2017_8.csv',\n",
       " '2016_8.csv']"
      ]
     },
     "execution_count": 7,
     "metadata": {},
     "output_type": "execute_result"
    }
   ],
   "source": [
    "#all_flight_files"
   ]
  },
  {
   "cell_type": "code",
   "execution_count": 8,
   "metadata": {},
   "outputs": [
    {
     "data": {
      "text/plain": [
       "36"
      ]
     },
     "execution_count": 8,
     "metadata": {},
     "output_type": "execute_result"
    }
   ],
   "source": [
    "#len(all_flight_files)"
   ]
  },
  {
   "cell_type": "code",
   "execution_count": null,
   "metadata": {},
   "outputs": [],
   "source": [
    "#all_data =[pd.read_csv(os.path.join(flight_path, all_flight_files[i])) for i in range(len(all_flight_files))]"
   ]
  },
  {
   "cell_type": "code",
   "execution_count": 4,
   "metadata": {},
   "outputs": [
    {
     "data": {
      "text/plain": [
       "\"\\ndf = pd.DataFrame([])\\nfor i in tqdm(range(len(all_data))):\\n    for air in airport_codes:\\n        df = pd.concat([df, all_data[i][all_data[i]['ORIGIN'] == air]])\\n\""
      ]
     },
     "execution_count": 4,
     "metadata": {},
     "output_type": "execute_result"
    }
   ],
   "source": [
    "'''\n",
    "df = pd.DataFrame([])\n",
    "for i in tqdm(range(len(all_data))):\n",
    "    for air in airport_codes:\n",
    "        df = pd.concat([df, all_data[i][all_data[i]['ORIGIN'] == air]])\n",
    "'''        "
   ]
  },
  {
   "cell_type": "code",
   "execution_count": 5,
   "metadata": {},
   "outputs": [],
   "source": [
    "#df.shape"
   ]
  },
  {
   "cell_type": "code",
   "execution_count": null,
   "metadata": {},
   "outputs": [],
   "source": [
    "#df.info()"
   ]
  },
  {
   "cell_type": "code",
   "execution_count": 6,
   "metadata": {},
   "outputs": [
    {
     "data": {
      "text/plain": [
       "\"\\ndf = df[['FL_DATE',\\n    'ORIGIN','ORIGIN_CITY_NAME','ORIGIN_STATE_NM',\\n    'DEST','DEST_CITY_NAME','DEST_STATE_NM',\\n    'CANCELLED','CANCELLATION_CODE',\\n    'CRS_ELAPSED_TIME','ACTUAL_ELAPSED_TIME','AIR_TIME','DISTANCE',\\n   'CARRIER_DELAY','WEATHER_DELAY','NAS_DELAY','SECURITY_DELAY','LATE_AIRCRAFT_DELAY']]\\n\""
      ]
     },
     "execution_count": 6,
     "metadata": {},
     "output_type": "execute_result"
    }
   ],
   "source": [
    "'''\n",
    "df = df[['FL_DATE',\n",
    "    'ORIGIN','ORIGIN_CITY_NAME','ORIGIN_STATE_NM',\n",
    "    'DEST','DEST_CITY_NAME','DEST_STATE_NM',\n",
    "    'CANCELLED','CANCELLATION_CODE',\n",
    "    'CRS_ELAPSED_TIME','ACTUAL_ELAPSED_TIME','AIR_TIME','DISTANCE',\n",
    "   'CARRIER_DELAY','WEATHER_DELAY','NAS_DELAY','SECURITY_DELAY','LATE_AIRCRAFT_DELAY']]\n",
    "'''   "
   ]
  },
  {
   "cell_type": "code",
   "execution_count": 7,
   "metadata": {},
   "outputs": [],
   "source": [
    "#df.to_csv('features_set_top_20.csv',index=False)"
   ]
  },
  {
   "cell_type": "markdown",
   "metadata": {},
   "source": [
    "### <center>Up to this"
   ]
  },
  {
   "cell_type": "code",
   "execution_count": 89,
   "metadata": {},
   "outputs": [],
   "source": [
    "df = pd.read_csv('features_set_top_20.csv')"
   ]
  },
  {
   "cell_type": "code",
   "execution_count": 90,
   "metadata": {},
   "outputs": [
    {
     "data": {
      "text/html": [
       "<div>\n",
       "<style scoped>\n",
       "    .dataframe tbody tr th:only-of-type {\n",
       "        vertical-align: middle;\n",
       "    }\n",
       "\n",
       "    .dataframe tbody tr th {\n",
       "        vertical-align: top;\n",
       "    }\n",
       "\n",
       "    .dataframe thead th {\n",
       "        text-align: right;\n",
       "    }\n",
       "</style>\n",
       "<table border=\"1\" class=\"dataframe\">\n",
       "  <thead>\n",
       "    <tr style=\"text-align: right;\">\n",
       "      <th></th>\n",
       "      <th>FL_DATE</th>\n",
       "      <th>ORIGIN</th>\n",
       "      <th>ORIGIN_CITY_NAME</th>\n",
       "      <th>ORIGIN_STATE_NM</th>\n",
       "      <th>DEST</th>\n",
       "      <th>DEST_CITY_NAME</th>\n",
       "      <th>DEST_STATE_NM</th>\n",
       "      <th>CANCELLED</th>\n",
       "      <th>CANCELLATION_CODE</th>\n",
       "      <th>CRS_ELAPSED_TIME</th>\n",
       "      <th>ACTUAL_ELAPSED_TIME</th>\n",
       "      <th>AIR_TIME</th>\n",
       "      <th>DISTANCE</th>\n",
       "      <th>CARRIER_DELAY</th>\n",
       "      <th>WEATHER_DELAY</th>\n",
       "      <th>NAS_DELAY</th>\n",
       "      <th>SECURITY_DELAY</th>\n",
       "      <th>LATE_AIRCRAFT_DELAY</th>\n",
       "    </tr>\n",
       "  </thead>\n",
       "  <tbody>\n",
       "    <tr>\n",
       "      <th>0</th>\n",
       "      <td>2017-02-01</td>\n",
       "      <td>ORD</td>\n",
       "      <td>Chicago, IL</td>\n",
       "      <td>Illinois</td>\n",
       "      <td>SFO</td>\n",
       "      <td>San Francisco, CA</td>\n",
       "      <td>California</td>\n",
       "      <td>0.0</td>\n",
       "      <td>NaN</td>\n",
       "      <td>298.0</td>\n",
       "      <td>336.0</td>\n",
       "      <td>280.0</td>\n",
       "      <td>1846.0</td>\n",
       "      <td>0.0</td>\n",
       "      <td>0.0</td>\n",
       "      <td>31.0</td>\n",
       "      <td>0.0</td>\n",
       "      <td>0.0</td>\n",
       "    </tr>\n",
       "    <tr>\n",
       "      <th>1</th>\n",
       "      <td>2017-02-01</td>\n",
       "      <td>ORD</td>\n",
       "      <td>Chicago, IL</td>\n",
       "      <td>Illinois</td>\n",
       "      <td>DEN</td>\n",
       "      <td>Denver, CO</td>\n",
       "      <td>Colorado</td>\n",
       "      <td>0.0</td>\n",
       "      <td>NaN</td>\n",
       "      <td>170.0</td>\n",
       "      <td>186.0</td>\n",
       "      <td>148.0</td>\n",
       "      <td>888.0</td>\n",
       "      <td>10.0</td>\n",
       "      <td>0.0</td>\n",
       "      <td>16.0</td>\n",
       "      <td>0.0</td>\n",
       "      <td>0.0</td>\n",
       "    </tr>\n",
       "    <tr>\n",
       "      <th>2</th>\n",
       "      <td>2017-02-01</td>\n",
       "      <td>ORD</td>\n",
       "      <td>Chicago, IL</td>\n",
       "      <td>Illinois</td>\n",
       "      <td>TPA</td>\n",
       "      <td>Tampa, FL</td>\n",
       "      <td>Florida</td>\n",
       "      <td>0.0</td>\n",
       "      <td>NaN</td>\n",
       "      <td>172.0</td>\n",
       "      <td>165.0</td>\n",
       "      <td>123.0</td>\n",
       "      <td>1012.0</td>\n",
       "      <td>NaN</td>\n",
       "      <td>NaN</td>\n",
       "      <td>NaN</td>\n",
       "      <td>NaN</td>\n",
       "      <td>NaN</td>\n",
       "    </tr>\n",
       "    <tr>\n",
       "      <th>3</th>\n",
       "      <td>2017-02-01</td>\n",
       "      <td>ORD</td>\n",
       "      <td>Chicago, IL</td>\n",
       "      <td>Illinois</td>\n",
       "      <td>PHX</td>\n",
       "      <td>Phoenix, AZ</td>\n",
       "      <td>Arizona</td>\n",
       "      <td>0.0</td>\n",
       "      <td>NaN</td>\n",
       "      <td>235.0</td>\n",
       "      <td>259.0</td>\n",
       "      <td>215.0</td>\n",
       "      <td>1440.0</td>\n",
       "      <td>0.0</td>\n",
       "      <td>0.0</td>\n",
       "      <td>15.0</td>\n",
       "      <td>0.0</td>\n",
       "      <td>0.0</td>\n",
       "    </tr>\n",
       "    <tr>\n",
       "      <th>4</th>\n",
       "      <td>2017-02-01</td>\n",
       "      <td>ORD</td>\n",
       "      <td>Chicago, IL</td>\n",
       "      <td>Illinois</td>\n",
       "      <td>SLC</td>\n",
       "      <td>Salt Lake City, UT</td>\n",
       "      <td>Utah</td>\n",
       "      <td>0.0</td>\n",
       "      <td>NaN</td>\n",
       "      <td>214.0</td>\n",
       "      <td>233.0</td>\n",
       "      <td>204.0</td>\n",
       "      <td>1250.0</td>\n",
       "      <td>0.0</td>\n",
       "      <td>0.0</td>\n",
       "      <td>17.0</td>\n",
       "      <td>0.0</td>\n",
       "      <td>0.0</td>\n",
       "    </tr>\n",
       "  </tbody>\n",
       "</table>\n",
       "</div>"
      ],
      "text/plain": [
       "      FL_DATE ORIGIN ORIGIN_CITY_NAME ORIGIN_STATE_NM DEST  \\\n",
       "0  2017-02-01    ORD      Chicago, IL        Illinois  SFO   \n",
       "1  2017-02-01    ORD      Chicago, IL        Illinois  DEN   \n",
       "2  2017-02-01    ORD      Chicago, IL        Illinois  TPA   \n",
       "3  2017-02-01    ORD      Chicago, IL        Illinois  PHX   \n",
       "4  2017-02-01    ORD      Chicago, IL        Illinois  SLC   \n",
       "\n",
       "       DEST_CITY_NAME DEST_STATE_NM  CANCELLED CANCELLATION_CODE  \\\n",
       "0   San Francisco, CA    California        0.0               NaN   \n",
       "1          Denver, CO      Colorado        0.0               NaN   \n",
       "2           Tampa, FL       Florida        0.0               NaN   \n",
       "3         Phoenix, AZ       Arizona        0.0               NaN   \n",
       "4  Salt Lake City, UT          Utah        0.0               NaN   \n",
       "\n",
       "   CRS_ELAPSED_TIME  ACTUAL_ELAPSED_TIME  AIR_TIME  DISTANCE  CARRIER_DELAY  \\\n",
       "0             298.0                336.0     280.0    1846.0            0.0   \n",
       "1             170.0                186.0     148.0     888.0           10.0   \n",
       "2             172.0                165.0     123.0    1012.0            NaN   \n",
       "3             235.0                259.0     215.0    1440.0            0.0   \n",
       "4             214.0                233.0     204.0    1250.0            0.0   \n",
       "\n",
       "   WEATHER_DELAY  NAS_DELAY  SECURITY_DELAY  LATE_AIRCRAFT_DELAY  \n",
       "0            0.0       31.0             0.0                  0.0  \n",
       "1            0.0       16.0             0.0                  0.0  \n",
       "2            NaN        NaN             NaN                  NaN  \n",
       "3            0.0       15.0             0.0                  0.0  \n",
       "4            0.0       17.0             0.0                  0.0  "
      ]
     },
     "execution_count": 90,
     "metadata": {},
     "output_type": "execute_result"
    }
   ],
   "source": [
    "df.head()"
   ]
  },
  {
   "cell_type": "code",
   "execution_count": 91,
   "metadata": {},
   "outputs": [
    {
     "data": {
      "text/plain": [
       "0.0    10218590\n",
       "1.0      145283\n",
       "Name: CANCELLED, dtype: int64"
      ]
     },
     "execution_count": 91,
     "metadata": {},
     "output_type": "execute_result"
    }
   ],
   "source": [
    "df['CANCELLED'].value_counts()"
   ]
  },
  {
   "cell_type": "code",
   "execution_count": 92,
   "metadata": {},
   "outputs": [
    {
     "data": {
      "text/plain": [
       "B    80312\n",
       "A    34750\n",
       "C    30049\n",
       "D      172\n",
       "Name: CANCELLATION_CODE, dtype: int64"
      ]
     },
     "execution_count": 92,
     "metadata": {},
     "output_type": "execute_result"
    }
   ],
   "source": [
    "df['CANCELLATION_CODE'].value_counts()"
   ]
  },
  {
   "cell_type": "code",
   "execution_count": 93,
   "metadata": {},
   "outputs": [],
   "source": [
    "CANCELLATION_CODE_dict  = {\"A\":\"Carrier\",\"B\":\"Weather\",\"C\":\"National Air System\",\"D\":\"Security\"}"
   ]
  },
  {
   "cell_type": "code",
   "execution_count": 94,
   "metadata": {},
   "outputs": [],
   "source": [
    "all_cncl_reason = [CANCELLATION_CODE_dict.get(item,item)  for item in df['CANCELLATION_CODE'].value_counts().index]\n",
    "cncl_count = df['CANCELLATION_CODE'].value_counts().values"
   ]
  },
  {
   "cell_type": "code",
   "execution_count": 95,
   "metadata": {},
   "outputs": [
    {
     "data": {
      "image/png": "[encoded data removed]",
      "text/plain": [
       "<Figure size 432x288 with 1 Axes>"
      ]
     },
     "metadata": {
      "needs_background": "light"
     },
     "output_type": "display_data"
    }
   ],
   "source": [
    "ax = sns.barplot(x=all_cncl_reason, y=cncl_count)\n",
    "plt.xlabel('Type of reason')\n",
    "plt.ylabel('count')\n",
    "plt.title('Total count of cancellation for different reason for last 3 years')\n",
    "plt.show()"
   ]
  },
  {
   "cell_type": "code",
   "execution_count": 96,
   "metadata": {},
   "outputs": [],
   "source": [
    "df['FL_DATE'] = pd.to_datetime(df['FL_DATE'])"
   ]
  },
  {
   "cell_type": "code",
   "execution_count": 101,
   "metadata": {},
   "outputs": [
    {
     "data": {
      "text/html": [
       "<div>\n",
       "<style scoped>\n",
       "    .dataframe tbody tr th:only-of-type {\n",
       "        vertical-align: middle;\n",
       "    }\n",
       "\n",
       "    .dataframe tbody tr th {\n",
       "        vertical-align: top;\n",
       "    }\n",
       "\n",
       "    .dataframe thead th {\n",
       "        text-align: right;\n",
       "    }\n",
       "</style>\n",
       "<table border=\"1\" class=\"dataframe\">\n",
       "  <thead>\n",
       "    <tr style=\"text-align: right;\">\n",
       "      <th></th>\n",
       "      <th>FL_DATE</th>\n",
       "      <th>ORIGIN</th>\n",
       "      <th>ORIGIN_CITY_NAME</th>\n",
       "      <th>ORIGIN_STATE_NM</th>\n",
       "      <th>DEST</th>\n",
       "      <th>DEST_CITY_NAME</th>\n",
       "      <th>DEST_STATE_NM</th>\n",
       "      <th>CANCELLED</th>\n",
       "      <th>CANCELLATION_CODE</th>\n",
       "      <th>CRS_ELAPSED_TIME</th>\n",
       "      <th>ACTUAL_ELAPSED_TIME</th>\n",
       "      <th>AIR_TIME</th>\n",
       "      <th>DISTANCE</th>\n",
       "      <th>CARRIER_DELAY</th>\n",
       "      <th>WEATHER_DELAY</th>\n",
       "      <th>NAS_DELAY</th>\n",
       "      <th>SECURITY_DELAY</th>\n",
       "      <th>LATE_AIRCRAFT_DELAY</th>\n",
       "    </tr>\n",
       "  </thead>\n",
       "  <tbody>\n",
       "    <tr>\n",
       "      <th>0</th>\n",
       "      <td>2017-02-01</td>\n",
       "      <td>ORD</td>\n",
       "      <td>Chicago, IL</td>\n",
       "      <td>Illinois</td>\n",
       "      <td>SFO</td>\n",
       "      <td>San Francisco, CA</td>\n",
       "      <td>California</td>\n",
       "      <td>0.0</td>\n",
       "      <td>NaN</td>\n",
       "      <td>298.0</td>\n",
       "      <td>336.0</td>\n",
       "      <td>280.0</td>\n",
       "      <td>1846.0</td>\n",
       "      <td>0.0</td>\n",
       "      <td>0.0</td>\n",
       "      <td>31.0</td>\n",
       "      <td>0.0</td>\n",
       "      <td>0.0</td>\n",
       "    </tr>\n",
       "  </tbody>\n",
       "</table>\n",
       "</div>"
      ],
      "text/plain": [
       "     FL_DATE ORIGIN ORIGIN_CITY_NAME ORIGIN_STATE_NM DEST     DEST_CITY_NAME  \\\n",
       "0 2017-02-01    ORD      Chicago, IL        Illinois  SFO  San Francisco, CA   \n",
       "\n",
       "  DEST_STATE_NM  CANCELLED CANCELLATION_CODE  CRS_ELAPSED_TIME  \\\n",
       "0    California        0.0               NaN             298.0   \n",
       "\n",
       "   ACTUAL_ELAPSED_TIME  AIR_TIME  DISTANCE  CARRIER_DELAY  WEATHER_DELAY  \\\n",
       "0                336.0     280.0    1846.0            0.0            0.0   \n",
       "\n",
       "   NAS_DELAY  SECURITY_DELAY  LATE_AIRCRAFT_DELAY  \n",
       "0       31.0             0.0                  0.0  "
      ]
     },
     "execution_count": 101,
     "metadata": {},
     "output_type": "execute_result"
    }
   ],
   "source": [
    "df.head(1)"
   ]
  },
  {
   "cell_type": "code",
   "execution_count": 102,
   "metadata": {},
   "outputs": [],
   "source": [
    "df['Delay'] = 0"
   ]
  },
  {
   "cell_type": "code",
   "execution_count": 103,
   "metadata": {},
   "outputs": [],
   "source": [
    "df.loc[(df['CARRIER_DELAY'] > 0) | (df['WEATHER_DELAY'] > 0) | (df['WEATHER_DELAY'] > 0) |\n",
    "       (df['SECURITY_DELAY'] > 0) | (df['LATE_AIRCRAFT_DELAY'] > 0),'Delay'] = 1"
   ]
  },
  {
   "cell_type": "code",
   "execution_count": 104,
   "metadata": {},
   "outputs": [
    {
     "data": {
      "text/plain": [
       "0    8799320\n",
       "1    1564553\n",
       "Name: Delay, dtype: int64"
      ]
     },
     "execution_count": 104,
     "metadata": {},
     "output_type": "execute_result"
    }
   ],
   "source": [
    "df['Delay'].value_counts()"
   ]
  },
  {
   "cell_type": "code",
   "execution_count": 105,
   "metadata": {},
   "outputs": [],
   "source": [
    "df['status'] = 1"
   ]
  },
  {
   "cell_type": "code",
   "execution_count": 106,
   "metadata": {},
   "outputs": [],
   "source": [
    "df.loc[(df['CANCELLATION_CODE'] == 'B') ,'status'] = -1"
   ]
  },
  {
   "cell_type": "code",
   "execution_count": 107,
   "metadata": {},
   "outputs": [
    {
     "data": {
      "text/plain": [
       " 1    10283561\n",
       "-1       80312\n",
       "Name: status, dtype: int64"
      ]
     },
     "execution_count": 107,
     "metadata": {},
     "output_type": "execute_result"
    }
   ],
   "source": [
    "df['status'].value_counts()"
   ]
  },
  {
   "cell_type": "code",
   "execution_count": 108,
   "metadata": {},
   "outputs": [
    {
     "data": {
      "text/plain": [
       "(10283561, 20)"
      ]
     },
     "execution_count": 108,
     "metadata": {},
     "output_type": "execute_result"
    }
   ],
   "source": [
    "sch_df = df[df['status']==1]\n",
    "#sch_df = sch_df.sample(frac=1, random_state=1).head(1000000)\n",
    "sch_df.shape"
   ]
  },
  {
   "cell_type": "code",
   "execution_count": 109,
   "metadata": {},
   "outputs": [],
   "source": [
    "#delay_df = new_df[new_df['status']==1]\n",
    "cancel_df = df[df['status']==-1]"
   ]
  },
  {
   "cell_type": "code",
   "execution_count": 110,
   "metadata": {},
   "outputs": [],
   "source": [
    "df = pd.concat([sch_df,cancel_df])\n",
    "df = df.sample(frac=1, random_state=1)"
   ]
  },
  {
   "cell_type": "code",
   "execution_count": 111,
   "metadata": {},
   "outputs": [
    {
     "data": {
      "image/png": "[encoded data removed]",
      "text/plain": [
       "<Figure size 1080x288 with 1 Axes>"
      ]
     },
     "metadata": {
      "needs_background": "light"
     },
     "output_type": "display_data"
    }
   ],
   "source": [
    "fig = plt.figure(figsize=(15,4));\n",
    "\n",
    "ax = fig.add_axes([0,0,1,1]);\n",
    "\n",
    "df[df['status'] ==1].groupby('FL_DATE')['ORIGIN'].count().plot.line(c='b', label=\"scheduled\");\n",
    "df[df['status'] ==-1].groupby('FL_DATE').count()['ORIGIN'].plot.line(c='r', label=\"cancelled\");\n",
    "#new_df[new_df['status'] ==2].groupby('FL_DATE').count()['ORIGIN'].plot.line(c='g', label=\"cancelled\");\n",
    "plt.xlabel('Date')\n",
    "plt.title('Trend over last 3 years')\n",
    "\n",
    "ax.legend();"
   ]
  },
  {
   "cell_type": "code",
   "execution_count": 112,
   "metadata": {},
   "outputs": [
    {
     "data": {
      "text/plain": [
       " 1    10283561\n",
       "-1       80312\n",
       "Name: status, dtype: int64"
      ]
     },
     "execution_count": 112,
     "metadata": {},
     "output_type": "execute_result"
    }
   ],
   "source": [
    "df['status'].value_counts()"
   ]
  },
  {
   "cell_type": "code",
   "execution_count": 113,
   "metadata": {},
   "outputs": [],
   "source": [
    "city_weather_list = os.listdir(weather_path)"
   ]
  },
  {
   "cell_type": "code",
   "execution_count": 114,
   "metadata": {},
   "outputs": [
    {
     "data": {
      "text/plain": [
       "'weather_data/'"
      ]
     },
     "execution_count": 114,
     "metadata": {},
     "output_type": "execute_result"
    }
   ],
   "source": [
    "weather_path"
   ]
  },
  {
   "cell_type": "code",
   "execution_count": 115,
   "metadata": {},
   "outputs": [],
   "source": [
    "df.FL_DATE = pd.to_datetime(df.FL_DATE)\n",
    "df.set_index('FL_DATE', inplace=True)"
   ]
  },
  {
   "cell_type": "code",
   "execution_count": 117,
   "metadata": {},
   "outputs": [],
   "source": [
    "df['Month'] = df.index.month\n",
    "df['Date'] = df.index.date"
   ]
  },
  {
   "cell_type": "code",
   "execution_count": 118,
   "metadata": {},
   "outputs": [],
   "source": [
    "def make_col_to_str(df):\n",
    "    for col in df.columns:\n",
    "        df[col] = df[col].apply(str)\n",
    "        \n",
    "    return df\n",
    "\n",
    "\n",
    "def remove_letters(df):\n",
    "    for col in df.columns:\n",
    "            #df = df[df[col] != 'T']\n",
    "            #df[col] = df[col].str.sub(\"\\D\", \"\", \"aas30dsa20\")\n",
    "            #df[col].replace(regex=True,inplace=True,to_replace=r'\\D',value=r'')\n",
    "        df[col] = df[col].str.replace(r'[A-Za-z]','')\n",
    "    return df\n",
    "\n",
    "\n",
    "def to_float(x):\n",
    "    try:\n",
    "        return float(x)\n",
    "    except:\n",
    "        return float(''.join(list(x)[:-1]))\n",
    "def make_col_numeric(df):\n",
    "    for col in df.columns:\n",
    "            print(col)\n",
    "            df[col] = df[col].apply(to_float)\n",
    "        \n",
    "    return df"
   ]
  },
  {
   "cell_type": "code",
   "execution_count": 119,
   "metadata": {},
   "outputs": [
    {
     "name": "stderr",
     "output_type": "stream",
     "text": [
      "100%|██████████| 20/20 [02:14<00:00,  6.32s/it]\n"
     ]
    }
   ],
   "source": [
    "all_feature_df_list = []\n",
    "reqd_cols = ['DATE','HourlyDewPointTemperature', 'HourlyDryBulbTemperature', 'HourlyPrecipitation', 'HourlyRelativeHumidity', 'HourlyStationPressure', 'HourlyVisibility', 'HourlyWetBulbTemperature']\n",
    "\n",
    "for index,i in enumerate(tqdm(city_weather_list)):\n",
    "    weather_df = pd.read_csv(weather_path+i,low_memory=False)\n",
    "    weather_df = weather_df[reqd_cols]\n",
    "    weather_df.DATE = pd.to_datetime(weather_df.DATE)\n",
    "    weather_df.set_index('DATE', inplace=True)\n",
    "    weather_df = make_col_to_str(weather_df)\n",
    "    weather_df = remove_letters(weather_df)\n",
    "    #weather_df = make_col_numeric(weather_df)\n",
    "    weather_df = weather_df.apply(pd.to_numeric, errors='coerce')  \n",
    "    weather_df.fillna(weather_df.mean(), inplace=True)\n",
    "    weather_df = weather_df.groupby(weather_df.index.date).mean()\n",
    "    city_code = i.split('_')[1][:-4]\n",
    "    temp_city_w = pd.merge(df[df.ORIGIN==city_code], weather_df, how='left', left_index=True, right_index=True)\n",
    "    all_feature_df_list.append(temp_city_w)"
   ]
  },
  {
   "cell_type": "code",
   "execution_count": 120,
   "metadata": {},
   "outputs": [],
   "source": [
    "final_df = pd.concat(all_feature_df_list)"
   ]
  },
  {
   "cell_type": "code",
   "execution_count": 121,
   "metadata": {},
   "outputs": [],
   "source": [
    "final_df = final_df.sample(frac=1, random_state=1)"
   ]
  },
  {
   "cell_type": "code",
   "execution_count": 122,
   "metadata": {},
   "outputs": [
    {
     "data": {
      "text/plain": [
       "ORIGIN                              0\n",
       "ORIGIN_CITY_NAME                    0\n",
       "ORIGIN_STATE_NM                     0\n",
       "DEST                                0\n",
       "DEST_CITY_NAME                      0\n",
       "DEST_STATE_NM                       0\n",
       "CANCELLED                           0\n",
       "CANCELLATION_CODE            10218590\n",
       "CRS_ELAPSED_TIME                   12\n",
       "ACTUAL_ELAPSED_TIME            170199\n",
       "AIR_TIME                       170199\n",
       "DISTANCE                            0\n",
       "CARRIER_DELAY                 8380934\n",
       "WEATHER_DELAY                 8380934\n",
       "NAS_DELAY                     8380934\n",
       "SECURITY_DELAY                8380934\n",
       "LATE_AIRCRAFT_DELAY           8380934\n",
       "Delay                               0\n",
       "status                              0\n",
       "Month                               0\n",
       "Date                                0\n",
       "HourlyDewPointTemperature           0\n",
       "HourlyDryBulbTemperature            0\n",
       "HourlyPrecipitation                 0\n",
       "HourlyRelativeHumidity              0\n",
       "HourlyStationPressure               0\n",
       "HourlyVisibility                    0\n",
       "HourlyWetBulbTemperature            0\n",
       "dtype: int64"
      ]
     },
     "execution_count": 122,
     "metadata": {},
     "output_type": "execute_result"
    }
   ],
   "source": [
    "final_df.isnull().sum(axis=0)"
   ]
  },
  {
   "cell_type": "code",
   "execution_count": 123,
   "metadata": {},
   "outputs": [],
   "source": [
    "final_df.dropna(axis=1,inplace=True)"
   ]
  },
  {
   "cell_type": "code",
   "execution_count": 124,
   "metadata": {},
   "outputs": [],
   "source": [
    "df = final_df.copy()"
   ]
  },
  {
   "cell_type": "code",
   "execution_count": 125,
   "metadata": {},
   "outputs": [
    {
     "data": {
      "text/html": [
       "<div>\n",
       "<style scoped>\n",
       "    .dataframe tbody tr th:only-of-type {\n",
       "        vertical-align: middle;\n",
       "    }\n",
       "\n",
       "    .dataframe tbody tr th {\n",
       "        vertical-align: top;\n",
       "    }\n",
       "\n",
       "    .dataframe thead th {\n",
       "        text-align: right;\n",
       "    }\n",
       "</style>\n",
       "<table border=\"1\" class=\"dataframe\">\n",
       "  <thead>\n",
       "    <tr style=\"text-align: right;\">\n",
       "      <th></th>\n",
       "      <th>ORIGIN</th>\n",
       "      <th>ORIGIN_CITY_NAME</th>\n",
       "      <th>ORIGIN_STATE_NM</th>\n",
       "      <th>DEST</th>\n",
       "      <th>DEST_CITY_NAME</th>\n",
       "      <th>DEST_STATE_NM</th>\n",
       "      <th>CANCELLED</th>\n",
       "      <th>DISTANCE</th>\n",
       "      <th>Delay</th>\n",
       "      <th>status</th>\n",
       "      <th>Month</th>\n",
       "      <th>Date</th>\n",
       "      <th>HourlyDewPointTemperature</th>\n",
       "      <th>HourlyDryBulbTemperature</th>\n",
       "      <th>HourlyPrecipitation</th>\n",
       "      <th>HourlyRelativeHumidity</th>\n",
       "      <th>HourlyStationPressure</th>\n",
       "      <th>HourlyVisibility</th>\n",
       "      <th>HourlyWetBulbTemperature</th>\n",
       "    </tr>\n",
       "  </thead>\n",
       "  <tbody>\n",
       "    <tr>\n",
       "      <th>2016-11-16</th>\n",
       "      <td>DFW</td>\n",
       "      <td>Dallas/Fort Worth, TX</td>\n",
       "      <td>Texas</td>\n",
       "      <td>LGA</td>\n",
       "      <td>New York, NY</td>\n",
       "      <td>New York</td>\n",
       "      <td>0.0</td>\n",
       "      <td>1389.0</td>\n",
       "      <td>0</td>\n",
       "      <td>1</td>\n",
       "      <td>11</td>\n",
       "      <td>2016-11-16</td>\n",
       "      <td>48.008287</td>\n",
       "      <td>69.664524</td>\n",
       "      <td>0.002465</td>\n",
       "      <td>51.039878</td>\n",
       "      <td>29.284557</td>\n",
       "      <td>9.962225</td>\n",
       "      <td>57.533681</td>\n",
       "    </tr>\n",
       "    <tr>\n",
       "      <th>2017-03-19</th>\n",
       "      <td>IAH</td>\n",
       "      <td>Houston, TX</td>\n",
       "      <td>Texas</td>\n",
       "      <td>ORD</td>\n",
       "      <td>Chicago, IL</td>\n",
       "      <td>Illinois</td>\n",
       "      <td>0.0</td>\n",
       "      <td>925.0</td>\n",
       "      <td>0</td>\n",
       "      <td>1</td>\n",
       "      <td>3</td>\n",
       "      <td>2017-03-19</td>\n",
       "      <td>63.632470</td>\n",
       "      <td>72.527653</td>\n",
       "      <td>0.002963</td>\n",
       "      <td>75.860489</td>\n",
       "      <td>30.109542</td>\n",
       "      <td>9.583841</td>\n",
       "      <td>66.879557</td>\n",
       "    </tr>\n",
       "  </tbody>\n",
       "</table>\n",
       "</div>"
      ],
      "text/plain": [
       "           ORIGIN       ORIGIN_CITY_NAME ORIGIN_STATE_NM DEST DEST_CITY_NAME  \\\n",
       "2016-11-16    DFW  Dallas/Fort Worth, TX           Texas  LGA   New York, NY   \n",
       "2017-03-19    IAH            Houston, TX           Texas  ORD    Chicago, IL   \n",
       "\n",
       "           DEST_STATE_NM  CANCELLED  DISTANCE  Delay  status  Month  \\\n",
       "2016-11-16      New York        0.0    1389.0      0       1     11   \n",
       "2017-03-19      Illinois        0.0     925.0      0       1      3   \n",
       "\n",
       "                  Date  HourlyDewPointTemperature  HourlyDryBulbTemperature  \\\n",
       "2016-11-16  2016-11-16                  48.008287                 69.664524   \n",
       "2017-03-19  2017-03-19                  63.632470                 72.527653   \n",
       "\n",
       "            HourlyPrecipitation  HourlyRelativeHumidity  \\\n",
       "2016-11-16             0.002465               51.039878   \n",
       "2017-03-19             0.002963               75.860489   \n",
       "\n",
       "            HourlyStationPressure  HourlyVisibility  HourlyWetBulbTemperature  \n",
       "2016-11-16              29.284557          9.962225                 57.533681  \n",
       "2017-03-19              30.109542          9.583841                 66.879557  "
      ]
     },
     "execution_count": 125,
     "metadata": {},
     "output_type": "execute_result"
    }
   ],
   "source": [
    "df.head(2)"
   ]
  },
  {
   "cell_type": "code",
   "execution_count": 126,
   "metadata": {},
   "outputs": [
    {
     "data": {
      "text/plain": [
       " 1    10283561\n",
       "-1       80312\n",
       "Name: status, dtype: int64"
      ]
     },
     "execution_count": 126,
     "metadata": {},
     "output_type": "execute_result"
    }
   ],
   "source": [
    "df['status'].value_counts()"
   ]
  },
  {
   "cell_type": "code",
   "execution_count": 127,
   "metadata": {},
   "outputs": [
    {
     "data": {
      "text/plain": [
       "(10363873, 19)"
      ]
     },
     "execution_count": 127,
     "metadata": {},
     "output_type": "execute_result"
    }
   ],
   "source": [
    "df.shape"
   ]
  },
  {
   "cell_type": "code",
   "execution_count": 128,
   "metadata": {},
   "outputs": [],
   "source": [
    "df = df.sample(frac=1, random_state=1)"
   ]
  },
  {
   "cell_type": "code",
   "execution_count": 129,
   "metadata": {},
   "outputs": [
    {
     "name": "stdout",
     "output_type": "stream",
     "text": [
      "<class 'pandas.core.frame.DataFrame'>\n",
      "DatetimeIndex: 10363873 entries, 2017-05-03 to 2016-10-11\n",
      "Data columns (total 19 columns):\n",
      "ORIGIN                       object\n",
      "ORIGIN_CITY_NAME             object\n",
      "ORIGIN_STATE_NM              object\n",
      "DEST                         object\n",
      "DEST_CITY_NAME               object\n",
      "DEST_STATE_NM                object\n",
      "CANCELLED                    float64\n",
      "DISTANCE                     float64\n",
      "Delay                        int64\n",
      "status                       int64\n",
      "Month                        int64\n",
      "Date                         object\n",
      "HourlyDewPointTemperature    float64\n",
      "HourlyDryBulbTemperature     float64\n",
      "HourlyPrecipitation          float64\n",
      "HourlyRelativeHumidity       float64\n",
      "HourlyStationPressure        float64\n",
      "HourlyVisibility             float64\n",
      "HourlyWetBulbTemperature     float64\n",
      "dtypes: float64(9), int64(3), object(7)\n",
      "memory usage: 1.5+ GB\n"
     ]
    }
   ],
   "source": [
    "df.info()"
   ]
  },
  {
   "cell_type": "code",
   "execution_count": 130,
   "metadata": {},
   "outputs": [],
   "source": [
    "categorical_features = list(df.select_dtypes(include=['O']).columns)\n",
    "for column in categorical_features:\n",
    "    df[column] = df[column].astype('category')"
   ]
  },
  {
   "cell_type": "code",
   "execution_count": 131,
   "metadata": {},
   "outputs": [],
   "source": [
    "category_columns = df.select_dtypes(['category']).columns\n",
    "df[category_columns] = df[category_columns].apply(lambda x: x.cat.codes)"
   ]
  },
  {
   "cell_type": "code",
   "execution_count": 132,
   "metadata": {},
   "outputs": [
    {
     "data": {
      "text/plain": [
       " 1    10283561\n",
       "-1       80312\n",
       "Name: status, dtype: int64"
      ]
     },
     "execution_count": 132,
     "metadata": {},
     "output_type": "execute_result"
    }
   ],
   "source": [
    "df['status'].value_counts()"
   ]
  },
  {
   "cell_type": "code",
   "execution_count": 133,
   "metadata": {},
   "outputs": [
    {
     "data": {
      "text/plain": [
       "Index(['ORIGIN', 'ORIGIN_CITY_NAME', 'ORIGIN_STATE_NM', 'DEST',\n",
       "       'DEST_CITY_NAME', 'DEST_STATE_NM', 'CANCELLED', 'DISTANCE', 'Delay',\n",
       "       'status', 'Month', 'Date', 'HourlyDewPointTemperature',\n",
       "       'HourlyDryBulbTemperature', 'HourlyPrecipitation',\n",
       "       'HourlyRelativeHumidity', 'HourlyStationPressure', 'HourlyVisibility',\n",
       "       'HourlyWetBulbTemperature'],\n",
       "      dtype='object')"
      ]
     },
     "execution_count": 133,
     "metadata": {},
     "output_type": "execute_result"
    }
   ],
   "source": [
    "df.columns"
   ]
  },
  {
   "cell_type": "code",
   "execution_count": 134,
   "metadata": {},
   "outputs": [],
   "source": [
    "X = df.drop(['status','CANCELLED','Delay'],axis=1)\n",
    "y = df['status']"
   ]
  },
  {
   "cell_type": "code",
   "execution_count": 135,
   "metadata": {},
   "outputs": [],
   "source": [
    "from sklearn.preprocessing import StandardScaler\n",
    "from sklearn.model_selection import train_test_split, KFold, cross_val_score"
   ]
  },
  {
   "cell_type": "code",
   "execution_count": 136,
   "metadata": {},
   "outputs": [
    {
     "name": "stderr",
     "output_type": "stream",
     "text": [
      "/home/bat/anaconda3/lib/python3.7/site-packages/sklearn/preprocessing/data.py:625: DataConversionWarning: Data with input dtype int8, int16, int64, float64 were all converted to float64 by StandardScaler.\n",
      "  return self.partial_fit(X, y)\n",
      "/home/bat/anaconda3/lib/python3.7/site-packages/sklearn/base.py:462: DataConversionWarning: Data with input dtype int8, int16, int64, float64 were all converted to float64 by StandardScaler.\n",
      "  return self.fit(X, **fit_params).transform(X)\n"
     ]
    }
   ],
   "source": [
    "X = StandardScaler().fit_transform(X)"
   ]
  },
  {
   "cell_type": "code",
   "execution_count": 137,
   "metadata": {},
   "outputs": [],
   "source": [
    "X_train, X_test, y_train, y_test = train_test_split(X, y, test_size=0.3)"
   ]
  },
  {
   "cell_type": "code",
   "execution_count": 138,
   "metadata": {},
   "outputs": [],
   "source": [
    "from sklearn.metrics import classification_report, confusion_matrix"
   ]
  },
  {
   "cell_type": "code",
   "execution_count": 139,
   "metadata": {},
   "outputs": [],
   "source": [
    "from sklearn.metrics import accuracy_score"
   ]
  },
  {
   "cell_type": "code",
   "execution_count": 140,
   "metadata": {},
   "outputs": [],
   "source": [
    "import numpy as np\n",
    "import itertools\n",
    "#plt.grid(b=None)\n",
    "\n",
    "\n",
    "def plot_confusion_matrix(cm,\n",
    "                          target_names,\n",
    "                          title='Confusion matrix',\n",
    "                          cmap=None,\n",
    "                          normalize=True):\n",
    "    \n",
    "    \n",
    "    \n",
    "    accuracy = np.trace(cm) / float(np.sum(cm))\n",
    "    misclass = 1 - accuracy\n",
    "\n",
    "    if cmap is None:\n",
    "        cmap = plt.get_cmap('Blues')\n",
    "\n",
    "    plt.figure(figsize=(8, 6))\n",
    "    plt.imshow(cm, interpolation='nearest', cmap=cmap)\n",
    "    plt.title(title)\n",
    "    plt.colorbar()\n",
    "\n",
    "    if target_names is not None:\n",
    "        tick_marks = np.arange(len(target_names))\n",
    "        plt.xticks(tick_marks, target_names, rotation=45)\n",
    "        plt.yticks(tick_marks, target_names)\n",
    "\n",
    "    if normalize:\n",
    "        cm = cm.astype('float') / cm.sum(axis=1)[:, np.newaxis]\n",
    "\n",
    "\n",
    "    thresh = cm.max() / 1.5 if normalize else cm.max() / 2\n",
    "    for i, j in itertools.product(range(cm.shape[0]), range(cm.shape[1])):\n",
    "        if normalize:\n",
    "            plt.text(j, i, \"{:0.4f}\".format(cm[i, j]),\n",
    "                     horizontalalignment=\"center\",\n",
    "                     color=\"white\" if cm[i, j] > thresh else \"black\")\n",
    "        else:\n",
    "            plt.text(j, i, \"{:,}\".format(cm[i, j]),\n",
    "                     horizontalalignment=\"center\",\n",
    "                     color=\"white\" if cm[i, j] > thresh else \"black\")\n",
    "\n",
    "\n",
    "    plt.tight_layout()\n",
    "    plt.ylabel('True label')\n",
    "    plt.xlabel('Predicted label\\naccuracy={:0.4f}; misclass={:0.4f}'.format(accuracy, misclass))\n",
    "    plt.show()"
   ]
  },
  {
   "cell_type": "code",
   "execution_count": 141,
   "metadata": {},
   "outputs": [],
   "source": [
    "from sklearn.ensemble import IsolationForest\n",
    "rng = np.random.RandomState(42)"
   ]
  },
  {
   "cell_type": "code",
   "execution_count": 142,
   "metadata": {},
   "outputs": [],
   "source": [
    "clf = IsolationForest(behaviour='new', max_samples=100,\n",
    "                      random_state=rng, contamination='auto')\n",
    "\n",
    "clf.fit(X_train)\n",
    "y_pred = clf.predict(X_test)\n",
    "#y_pred_test = clf.predict(X)"
   ]
  },
  {
   "cell_type": "code",
   "execution_count": 143,
   "metadata": {},
   "outputs": [
    {
     "data": {
      "text/plain": [
       "0.7667133459112134"
      ]
     },
     "execution_count": 143,
     "metadata": {},
     "output_type": "execute_result"
    }
   ],
   "source": [
    "accuracy_score(y_test,y_pred)"
   ]
  },
  {
   "cell_type": "code",
   "execution_count": 144,
   "metadata": {},
   "outputs": [
    {
     "data": {
      "image/png": "[encoded data removed]",
      "text/plain": [
       "<Figure size 576x432 with 2 Axes>"
      ]
     },
     "metadata": {
      "needs_background": "light"
     },
     "output_type": "display_data"
    }
   ],
   "source": [
    "plot_confusion_matrix(cm           = confusion_matrix(y_test, y_pred), \n",
    "                      normalize    = False,\n",
    "                      target_names = ['cancelled','scheduled'],\n",
    "                      title        = \"Confusion Matrix\")"
   ]
  },
  {
   "cell_type": "code",
   "execution_count": 53,
   "metadata": {},
   "outputs": [
    {
     "data": {
      "text/plain": [
       "0.3900591661486751"
      ]
     },
     "execution_count": 53,
     "metadata": {},
     "output_type": "execute_result"
    }
   ],
   "source": [
    "16943 /(16943 + 26494)"
   ]
  },
  {
   "cell_type": "code",
   "execution_count": 69,
   "metadata": {},
   "outputs": [
    {
     "data": {
      "text/plain": [
       "0.5446721822641666"
      ]
     },
     "execution_count": 69,
     "metadata": {},
     "output_type": "execute_result"
    }
   ],
   "source": [
    "13101/ (13101 + 10952)"
   ]
  },
  {
   "cell_type": "code",
   "execution_count": null,
   "metadata": {},
   "outputs": [],
   "source": []
  },
  {
   "cell_type": "code",
   "execution_count": null,
   "metadata": {},
   "outputs": [],
   "source": []
  },
  {
   "cell_type": "code",
   "execution_count": null,
   "metadata": {},
   "outputs": [],
   "source": []
  }
 ],
 "metadata": {
  "kernelspec": {
   "display_name": "Python 3",
   "language": "python",
   "name": "python3"
  },
  "language_info": {
   "codemirror_mode": {
    "name": "ipython",
    "version": 3
   },
   "file_extension": ".py",
   "mimetype": "text/x-python",
   "name": "python",
   "nbconvert_exporter": "python",
   "pygments_lexer": "ipython3",
   "version": "3.7.1"
  }
 },
 "nbformat": 4,
 "nbformat_minor": 2
}
